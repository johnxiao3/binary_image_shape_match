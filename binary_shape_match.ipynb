{
 "cells": [
  {
   "cell_type": "code",
   "execution_count": 64,
   "metadata": {},
   "outputs": [],
   "source": [
    "import cv2\n",
    "import numpy as np\n",
    "import matplotlib.pyplot as plt\n",
    "from math import atan2, cos, sin, sqrt, pi\n",
    "import math\n",
    "import imutils"
   ]
  },
  {
   "cell_type": "code",
   "execution_count": 356,
   "metadata": {},
   "outputs": [],
   "source": [
    "def getCentermass(rawimg):\n",
    "    mass_y,mass_x = np.where(rawimg!=0)\n",
    "    return int(round(np.mean(mass_x))),int(round(np.mean(mass_y)))\n",
    "def drawAxis(img, p_, q_, colour, scale):\n",
    "    p = list(p_)\n",
    "    q = list(q_)\n",
    "    angle = atan2(p[1] - q[1], p[0] - q[0]) # angle in radians\n",
    "    hypotenuse = sqrt((p[1] - q[1]) * (p[1] - q[1]) + (p[0] - q[0]) * (p[0] - q[0]))\n",
    "    # Here we lengthen the arrow by a factor of scale\n",
    "    q[0] = p[0] - scale * hypotenuse * cos(angle)\n",
    "    q[1] = p[1] - scale * hypotenuse * sin(angle)\n",
    "    cv2.line(img, (int(p[0]), int(p[1])), (int(q[0]), int(q[1])), colour, 1, cv2.LINE_AA)\n",
    "    # create the arrow hooks\n",
    "    p[0] = q[0] + 9 * cos(angle + pi / 4)\n",
    "    p[1] = q[1] + 9 * sin(angle + pi / 4)\n",
    "    cv2.line(img, (int(p[0]), int(p[1])), (int(q[0]), int(q[1])), colour, 1, cv2.LINE_AA)\n",
    "    p[0] = q[0] + 9 * cos(angle - pi / 4)\n",
    "    p[1] = q[1] + 9 * sin(angle - pi / 4)\n",
    "    cv2.line(img, (int(p[0]), int(p[1])), (int(q[0]), int(q[1])), colour, 1, cv2.LINE_AA)\n",
    "def getOrientation(img):\n",
    "    mass_y,mass_x = np.where(img!=0)\n",
    "    img = cv2.cvtColor(img, cv2.COLOR_GRAY2BGR)\n",
    "    sz = len(mass_x)\n",
    "    data_pts = np.empty((sz,2),dtype=np.float64)\n",
    "    for i in range(sz):\n",
    "        data_pts[i] = [mass_x[i],mass_y[i]]\n",
    "    mean = np.empty((0))\n",
    "    mean, eigenvectors, eigenvalues = cv2.PCACompute2(data_pts,mean)\n",
    "    cntr = (int(round(mean[0,0])),int(round(mean[0,1])))\n",
    "    # draw center of mass\n",
    "    #cv2.circle(img, cntr, 3, (255, 0, 255), 2)\n",
    "    #p1 = (cntr[0] + 0.005 * eigenvectors[0,0] * eigenvalues[0,0], cntr[1] + 0.005 * eigenvectors[0,1] * eigenvalues[0,0])\n",
    "    #p2 = (cntr[0] - 0.005 * eigenvectors[1,0] * eigenvalues[1,0], cntr[1] - 0.005 * eigenvectors[1,1] * eigenvalues[1,0])\n",
    "    #drawAxis(img, cntr, p1, (0, 255, 0), 1)\n",
    "    #drawAxis(img, cntr, p2, (255, 0, 0), 5)\n",
    "    angle = atan2(eigenvectors[0,1], eigenvectors[0,0])*180/math.pi # orientation in radians\n",
    "    # print('ei',eigenvectors)\n",
    "    return angle,cntr\n",
    "def getAvgWH(img):\n",
    "    mass_y,mass_x = np.where(img!=0)\n",
    "    tot_mass = np.sum((img!=0)*1)\n",
    "    max_W = np.max(mass_x)-np.min(mass_x)\n",
    "    max_H = np.max(mass_y)-np.min(mass_y)\n",
    "    #return tot_mass/max_H,tot_mass/max_W\n",
    "    #print('1', tot_mass/max_H,tot_mass/max_W)\n",
    "    temp = (img!=0)*1\n",
    "    avg_row = np.sum(temp,0)\n",
    "    avgH = np.median(avg_row[avg_row!=0])\n",
    "    avg_col = np.sum(temp,1)\n",
    "    avgW = np.median(avg_col[avg_col!=0])\n",
    "    #print('2',avgW,avgH)\n",
    "    #return avgW,avgH\n",
    "    return max_W,max_H\n",
    "def getRatio(image0,image1):\n",
    "    avgWH0 = getAvgWH(image0)\n",
    "    avgWH1 = getAvgWH(image1)\n",
    "    return np.divide(avgWH1,avgWH0)\n",
    "def rotate(img,angle,center):\n",
    "    (h, w) = img.shape[:2]\n",
    "    M = cv2.getRotationMatrix2D(center, angle, 1.0)\n",
    "    return (cv2.warpAffine(img, M, (w, h)) > 200).astype('uint8')*255\n",
    "def SFVMatchTemplate(fn0,fn1):\n",
    "    rawimg0 = cv2.imread(fn0,0)\n",
    "    rawimg1 = cv2.imread(fn1,0)\n",
    "    angle0,centermass0 = getOrientation(rawimg0)\n",
    "    angle1,centermass1 = getOrientation(rawimg1)\n",
    "    d_angle = angle1 - angle0\n",
    "    rotated = rotate(rawimg1,d_angle,centermass1)\n",
    "    _,centermass1 = getOrientation(rotated)\n",
    "    scale = getRatio(rawimg0,rotated)\n",
    "    newsize = np.multiply(rawimg0.shape[:2][::-1],scale).astype('int32')\n",
    "    scaled_temp = cv2.resize(rawimg0,(newsize[0],newsize[1]),interpolation = cv2.INTER_NEAREST)\n",
    "    centermass0 = getCentermass(scaled_temp)\n",
    "    contours, hierarchy = cv2.findContours(scaled_temp, cv2.RETR_TREE, cv2.CHAIN_APPROX_SIMPLE)\n",
    "    offs = np.asarray(centermass1)-np.asarray(centermass0)\n",
    "    image0 = cv2.drawContours(scaled_temp, contours, 0, (125,125, 125), 2)\n",
    "    main_cont = contours[0]\n",
    "    main_cont += offs\n",
    "    res = cv2.drawContours(rotated, [main_cont], 0, (125,125, 125), 2)\n",
    "    return res"
   ]
  },
  {
   "cell_type": "code",
   "execution_count": 358,
   "metadata": {},
   "outputs": [
    {
     "data": {
      "image/png": "[encoded data removed]",
      "text/plain": [
       "<Figure size 432x288 with 1 Axes>"
      ]
     },
     "metadata": {
      "needs_background": "light"
     },
     "output_type": "display_data"
    }
   ],
   "source": [
    "result  = SFVMatchTemplate('Binary_coins.png','1.png')\n",
    "plt.imshow(result)\n",
    "plt.show()"
   ]
  },
  {
   "cell_type": "code",
   "execution_count": 301,
   "metadata": {},
   "outputs": [
    {
     "name": "stdout",
     "output_type": "stream",
     "text": [
      "370.74399999999997\n"
     ]
    },
    {
     "data": {
      "text/plain": [
       "217.364"
      ]
     },
     "execution_count": 301,
     "metadata": {},
     "output_type": "execute_result"
    }
   ],
   "source": [
    "313*0.968\n",
    "print(383*0.968\n",
    "490*0.4436"
   ]
  },
  {
   "cell_type": "code",
   "execution_count": null,
   "metadata": {},
   "outputs": [],
   "source": []
  }
 ],
 "metadata": {
  "kernelspec": {
   "display_name": "Python 3",
   "language": "python",
   "name": "python3"
  },
  "language_info": {
   "codemirror_mode": {
    "name": "ipython",
    "version": 3
   },
   "file_extension": ".py",
   "mimetype": "text/x-python",
   "name": "python",
   "nbconvert_exporter": "python",
   "pygments_lexer": "ipython3",
   "version": "3.7.2"
  }
 },
 "nbformat": 4,
 "nbformat_minor": 4
}
